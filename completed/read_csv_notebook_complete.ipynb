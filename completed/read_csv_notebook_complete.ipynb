{
 "cells": [
  {
   "cell_type": "markdown",
   "metadata": {},
   "source": [
    "# Read a CSV"
   ]
  },
  {
   "cell_type": "markdown",
   "metadata": {},
   "source": [
    "Import built-in python modules we'll need to access csv files and download files. CSV, which stands for comma-separated values, a file format that resembles a spreadsheet or database table in a text file."
   ]
  },
  {
   "cell_type": "code",
   "execution_count": null,
   "metadata": {
    "collapsed": false
   },
   "outputs": [],
   "source": [
    "import csv\n",
    "from urllib.request import urlretrieve"
   ]
  },
  {
   "cell_type": "markdown",
   "metadata": {},
   "source": [
    "We're going to download a csv file. What should we name it?"
   ]
  },
  {
   "cell_type": "code",
   "execution_count": null,
   "metadata": {
    "collapsed": true
   },
   "outputs": [],
   "source": [
    "file_name = \"banklist.csv\""
   ]
  },
  {
   "cell_type": "markdown",
   "metadata": {},
   "source": [
    "Use the ```urlretrieve``` function from the ```urllib.request``` library to download the csv file [from the FDIC](https://www.fdic.gov/bank/individual/failed/banklist.html) from a url and save it to a directory. The csv link can be found at https://s3.amazonaws.com/nicar17/pycar17/banklist.csv. If the internet is uncooperative, you can also use the local version of the file in the ```project1/data/``` directory."
   ]
  },
  {
   "cell_type": "code",
   "execution_count": null,
   "metadata": {
    "collapsed": false
   },
   "outputs": [],
   "source": [
    "target_file = urlretrieve(\"https://s3.amazonaws.com/nicar17/pycar17/banklist.csv\", file_name)"
   ]
  },
  {
   "cell_type": "markdown",
   "metadata": {},
   "source": [
    "Open the csv file"
   ]
  },
  {
   "cell_type": "code",
   "execution_count": null,
   "metadata": {
    "collapsed": false
   },
   "outputs": [],
   "source": [
    "with open(file_name, \"rU\") as file:\n",
    "    # use python's csv reader to access the contents\n",
    "    # and create an object that represents the data\n",
    "    csv_data = csv.reader(file)\n",
    "    \n",
    "    # loop through each row of the csv\n",
    "    for row in csv_data:\n",
    "        \n",
    "        # and print the row to the terminal\n",
    "        print(row)\n",
    "        \n",
    "        # print the data type to the terminal\n",
    "        print(type(row))"
   ]
  }
 ],
 "metadata": {
  "anaconda-cloud": {},
  "kernelspec": {
   "display_name": "Python 3",
   "language": "python",
   "name": "python3"
  },
  "language_info": {
   "codemirror_mode": {
    "name": "ipython",
    "version": 3
   },
   "file_extension": ".py",
   "mimetype": "text/x-python",
   "name": "python",
   "nbconvert_exporter": "python",
   "pygments_lexer": "ipython3",
   "version": "3.6.0"
  }
 },
 "nbformat": 4,
 "nbformat_minor": 1
}
