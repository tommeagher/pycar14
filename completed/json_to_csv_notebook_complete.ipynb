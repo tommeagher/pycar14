{
 "cells": [
  {
   "cell_type": "markdown",
   "metadata": {},
   "source": [
    "# Convert JSON to CSV"
   ]
  },
  {
   "cell_type": "markdown",
   "metadata": {},
   "source": [
    "Import your modules"
   ]
  },
  {
   "cell_type": "code",
   "execution_count": null,
   "metadata": {
    "collapsed": false
   },
   "outputs": [],
   "source": [
    "import json\n",
    "import csv"
   ]
  },
  {
   "cell_type": "markdown",
   "metadata": {},
   "source": [
    "We'll use a local version of this file from now on to save on\n",
    "bandwidth."
   ]
  },
  {
   "cell_type": "code",
   "execution_count": null,
   "metadata": {
    "collapsed": false
   },
   "outputs": [],
   "source": [
    "# Open the file 'bills.json' in the project2/data/ directory\n",
    "with open('../project2/data/bills.json', 'r') as f:\n",
    "    # Convert it to a dict\n",
    "    data = json.load(f)\n",
    "    \n",
    "    # Each bill is stored in an array in `data` with the key `objects`\n",
    "    # Create a variable for easy access to the data we care about\n",
    "    objects = data['objects']\n",
    "    \n",
    "    # Create a csv file to output in the same directory\n",
    "    with open('../project2/data/bills.csv', 'w') as o:\n",
    "        # Create a csv writer. This will help us format the file\n",
    "        # correctly.\n",
    "        writer = csv.writer(o)\n",
    "        \n",
    "        # Write out the header row\n",
    "        writer.writerow([\n",
    "            'title',\n",
    "            'label',\n",
    "            'number',\n",
    "            'current_status'\n",
    "        ])\n",
    "        \n",
    "        # Iterate through each dict in the array `objects`\n",
    "        for bill in objects:\n",
    "            writer.writerow([\n",
    "                bill['title_without_number'],\n",
    "                bill['bill_type_label'],\n",
    "                bill['number'],\n",
    "                bill['current_status']\n",
    "            ])"
   ]
  }
 ],
 "metadata": {
  "anaconda-cloud": {},
  "kernelspec": {
   "display_name": "Python 3",
   "language": "python",
   "name": "python3"
  },
  "language_info": {
   "codemirror_mode": {
    "name": "ipython",
    "version": 3
   },
   "file_extension": ".py",
   "mimetype": "text/x-python",
   "name": "python",
   "nbconvert_exporter": "python",
   "pygments_lexer": "ipython3",
   "version": "3.6.0"
  }
 },
 "nbformat": 4,
 "nbformat_minor": 1
}
