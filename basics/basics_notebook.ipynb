{
 "cells": [
  {
   "cell_type": "markdown",
   "metadata": {},
   "source": [
    "# Python Basics at PyCAR18"
   ]
  },
  {
   "cell_type": "markdown",
   "metadata": {},
   "source": [
    "## Let's play a game"
   ]
  },
  {
   "cell_type": "markdown",
   "metadata": {},
   "source": [
    "You already know the components of programming. You have been exercising the reasoning programming relies on for your entire life, probably without even realizing it. Programming is just a way to take the logic you already use on a daily basis and express it in a way a computer can understand and act upon.\n",
    "\n",
    "Card games and games like tic-tac-toe are classic programming tests because they require you to encapsulate the way you reason about those games in a way a computer can understand. So let’s use a card game, solitaire, to talk about some basic programming concepts.\n",
    "\n",
    "[Take a look at this solitaire screen.](https://cdn.shopify.com/s/files/1/0168/6168/products/SolitareCards-lifestyle-01_3600x@2x.jpg?v=1460039329)\n",
    "\n",
    "In groups of two or three, think about this solitaire board. We’re not going to talk about setting up the board, although that’s an important aspect. In your groups, figure out two things:\n",
    "\n",
    "- What distinct groups of items exist on this board?\n",
    "- What is the first thing you need to know to play just this hand of solitaire? The second thing?\n",
    "\n",
    "*???*\n",
    "\n",
    "\n",
    "This is a program! See, you already know how to program. Now let’s take a minute to step through this the way a computer might.\n",
    "\n",
    "Consider that first card. **What makes it unique?**\n",
    "\n",
    "*???*\n",
    "\n",
    "\n",
    "In Python and other languages, we use the concept of **variables** to store values. A variable is just an easy way to reference a value we want to keep track of. So if we want to compare the values of the playable card and the last card in the first column, we probably want to assign them to variables to keep track of them.\n",
    "\n",
    "Create a string that represents the card we want to play and assign it to a variable:"
   ]
  },
  {
   "cell_type": "code",
   "execution_count": null,
   "metadata": {
    "collapsed": true
   },
   "outputs": [],
   "source": []
  },
  {
   "cell_type": "markdown",
   "metadata": {},
   "source": [
    "Now create a string to represent the card at the bottom of the first column."
   ]
  },
  {
   "cell_type": "code",
   "execution_count": null,
   "metadata": {},
   "outputs": [],
   "source": []
  },
  {
   "cell_type": "markdown",
   "metadata": {},
   "source": [
    "So any time we want to use our card in the program we’re writing, we can use these variables instead of typing out the card value!\n",
    "\n",
    "If you forget what one of the variables is set to, you can print your string. (The ```print()``` command was optional in Python 2.x, but is now required in Python 3.x.) Let's also make a comment to remind us of what this variable does."
   ]
  },
  {
   "cell_type": "code",
   "execution_count": null,
   "metadata": {},
   "outputs": [],
   "source": []
  },
  {
   "cell_type": "markdown",
   "metadata": {},
   "source": [
    "Remember that a string is just a series of characters, not a word or a sentence.\n",
    "So you can \"slice\" off pieces of a string based on the index of the characters in it.\n",
    "Try to slice off the first four characters of ```play_card```"
   ]
  },
  {
   "cell_type": "code",
   "execution_count": null,
   "metadata": {},
   "outputs": [],
   "source": []
  },
  {
   "cell_type": "markdown",
   "metadata": {},
   "source": [
    "So we could slice our strings to get their values, but this is going to get old, fast. Plus it's difficult to read, especially if you come back to this code later. Maybe we could improve it by using a list to represent the card instead:"
   ]
  },
  {
   "cell_type": "code",
   "execution_count": null,
   "metadata": {},
   "outputs": [],
   "source": []
  },
  {
   "cell_type": "markdown",
   "metadata": {},
   "source": [
    "A list is just a group of values that maintains its order. So we can get the numerical value of `play_card` by getting the index of the first item. (Indexes are just counts of items in a group. Most things are zero-indexed in the world of computers, meaning counting starts at 0.)"
   ]
  },
  {
   "cell_type": "code",
   "execution_count": null,
   "metadata": {},
   "outputs": [],
   "source": []
  },
  {
   "cell_type": "markdown",
   "metadata": {},
   "source": [
    "Now let's get the suit."
   ]
  },
  {
   "cell_type": "code",
   "execution_count": null,
   "metadata": {},
   "outputs": [],
   "source": []
  },
  {
   "cell_type": "markdown",
   "metadata": {},
   "source": [
    "This isn’t super readable. We have to remember that the first item in the list is the value of the card, not the suit. Fortunately, most programming languages have the concept of key-value pairs, which is a way to represent discrete bits of information in a variable. We could represent `play_card` like this instead, maybe:"
   ]
  },
  {
   "cell_type": "code",
   "execution_count": null,
   "metadata": {},
   "outputs": [],
   "source": []
  },
  {
   "cell_type": "markdown",
   "metadata": {},
   "source": [
    "The key is on the left and the value is on the right. This is called a **dictionary** (or **dict**) in Python. In your code, if you want to see the suit of `play_card`, you can ask for it like this:"
   ]
  },
  {
   "cell_type": "code",
   "execution_count": null,
   "metadata": {},
   "outputs": [],
   "source": []
  },
  {
   "cell_type": "markdown",
   "metadata": {},
   "source": [
    "But we still can’t compare the two values, because that number isn’t written out, is it? We’ve currently got it represented as a **string** — a list of characters. We could represent it as an **integer**, Python’s name for a whole number. (Decimal numbers are known as **floats**, short for “floating point values.”)"
   ]
  },
  {
   "cell_type": "code",
   "execution_count": null,
   "metadata": {},
   "outputs": [],
   "source": []
  },
  {
   "cell_type": "markdown",
   "metadata": {},
   "source": [
    "Notice the lack of quotes around the number `5`. If we put quotes around it, it will become a string — even though it’s a number! This can cause quite the headache if you’re trying to do math. Now make a dictionary for the card you want to compare to:"
   ]
  },
  {
   "cell_type": "code",
   "execution_count": null,
   "metadata": {},
   "outputs": [],
   "source": []
  },
  {
   "cell_type": "markdown",
   "metadata": {},
   "source": [
    "Hey, now we could check to see if the playable card’s value is one less than the last card in the first column!"
   ]
  },
  {
   "cell_type": "code",
   "execution_count": null,
   "metadata": {},
   "outputs": [],
   "source": []
  },
  {
   "cell_type": "markdown",
   "metadata": {},
   "source": [
    "This double-equals sign checks to see if the value on the right is equal to the value on the left. **A single equals sign is an assignment, not an equality check.**\n",
    "\n",
    "An equality check will return either `true` or `false`. In this case, it returns `true`. But what if it returned `false`? We would want to go on to the next column in the solitaire game and do the same check, right? Repetitive actions like this can often be made easier with **loops** and **logical statements** (`if` statements, for instance).\n",
    "\n",
    "In a real programmed game, the solitaire columns would probably be represented by a complex object that holds all of the columns and values. We could loop over each column in the list of columns like this (note that I’ making some assumptions about how the columns variable is structured — that’s not important right now)"
   ]
  },
  {
   "cell_type": "code",
   "execution_count": null,
   "metadata": {},
   "outputs": [],
   "source": []
  },
  {
   "cell_type": "markdown",
   "metadata": {},
   "source": [
    "The above statement basically says, “examine each column in order and find out if the last card is one greater than the card to play. If it is, break the loop.” The statement implies that otherwise, the loop will keep going through the columns until it finishes.\n",
    "\n",
    "As you’ve just seen, programming can be pretty tedious when you’re trying to break tasks down. So now that you’ve gotten a little bit of a taste for what writing a program is like, let’s dive into some of the nitty-gritty basics, like how you strip whitespace from a string and what happens when you mix a float and an integer.\n",
    "\n",
    "One very important disclaimer before we do: **Nobody memorizes this stuff**. We all have to look stuff up all the time. We don’t expect you to memorize it, either. Ask questions. Ask us to review things we’ve already told you.\n",
    "\n",
    "(Most of us ask annoying questions daily — we just ask them of Google.)"
   ]
  }
 ],
 "metadata": {
  "anaconda-cloud": {},
  "kernelspec": {
   "display_name": "Python 2",
   "language": "python",
   "name": "python2"
  },
  "language_info": {
   "codemirror_mode": {
    "name": "ipython",
    "version": 2
   },
   "file_extension": ".py",
   "mimetype": "text/x-python",
   "name": "python",
   "nbconvert_exporter": "python",
   "pygments_lexer": "ipython2",
   "version": "2.7.10"
  }
 },
 "nbformat": 4,
 "nbformat_minor": 1
}
