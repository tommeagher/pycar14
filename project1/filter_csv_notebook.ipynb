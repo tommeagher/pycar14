{
 "cells": [
  {
   "cell_type": "markdown",
   "metadata": {},
   "source": [
    "# Filter a CSV"
   ]
  },
  {
   "cell_type": "markdown",
   "metadata": {},
   "source": [
    "We're going to use built-in Python modules - programs really - to download a csv file from the Internet and save it locally.\n",
    "\n",
    "CSV stands for comma-separated values. It's a common file format a file format that resembles a spreadsheet or database table in a text file.\n",
    "\n",
    "So first, let's import two built-in Python modules: urllib and csv. \n",
    "\n",
    "* ```urllib``` is a module that allows Python to make http requests to URLs on the web to fetch HTML. It contains a submodule called request. And inside there we want a specific method called urlretrieve\n",
    "\n",
    "* ```csv``` is a module that helps Python work with tabular data extracted from spreadsheets and databases"
   ]
  },
  {
   "cell_type": "code",
   "execution_count": null,
   "metadata": {},
   "outputs": [],
   "source": []
  },
  {
   "cell_type": "markdown",
   "metadata": {},
   "source": [
    "We're going to download a csv file. What should we name it?"
   ]
  },
  {
   "cell_type": "code",
   "execution_count": null,
   "metadata": {},
   "outputs": [],
   "source": []
  },
  {
   "cell_type": "markdown",
   "metadata": {},
   "source": [
    "Now we need a URL to a CSV file out on the Internet.\n",
    "\n",
    "For this project we're going to download a CSV file that the [FDIC](https://www.fdic.gov/bank/individual/failed/banklist.html) compiles of all the banks that have failed since October 1, 2000.\n",
    "\n",
    "The file we want is at https://s3.amazonaws.com/datanicar/banklist.csv.\n",
    "\n",
    "If the internet is uncooperative, we can also use the local version of the file in the ```project1/data/``` directory, and structure out code a little differently.\n",
    "\n",
    "To do this, we use that program within the ```urllib``` module to download the file and save it to our project folder. It's called ```urlretrieve``` and for our purposes starting out think of it as a way to download a file from the Internet.\n",
    "\n",
    "`urlretrieve` takes two arguments to download a file. First specify our target URL, and then we give it a name for the file we want to create."
   ]
  },
  {
   "cell_type": "code",
   "execution_count": null,
   "metadata": {},
   "outputs": [],
   "source": []
  },
  {
   "cell_type": "markdown",
   "metadata": {},
   "source": [
    "The output shows we successfully downloaded the file and saved it\n",
    "\n",
    "Let's open a new file so we can filter just the data we want"
   ]
  },
  {
   "cell_type": "code",
   "execution_count": null,
   "metadata": {},
   "outputs": [],
   "source": []
  },
  {
   "cell_type": "markdown",
   "metadata": {},
   "source": [
    "We will use the writer method to write data to a file by passing in the name of the new file as the first argument and delimiter as the the second.\n",
    "\n",
    "Then we will go ahead and use python's csv reader to open the file and see what is inside.\n",
    "\n",
    "We specify the name of the file we just created, and we add a setting so we can open and read almost any CSV file."
   ]
  },
  {
   "cell_type": "code",
   "execution_count": 2,
   "metadata": {},
   "outputs": [],
   "source": [
    "# create our output\n",
    "\n",
    "# open our downloaded file\n",
    "\n",
    "    # use python's csv reader to access the contents\n",
    "    # and create an object that represents the data\n",
    "    \n",
    "    # write our header row to the output csv\n",
    "    \n",
    "    # loop through each row of the csv\n",
    "\n",
    "        # now we're going to use an IF statement\n",
    "        # to find items where the state field\n",
    "        # is equal to California\n",
    "            \n",
    "            # write the row to the new csv file\n",
    "        \n",
    "            # and print the row to the terminal\n",
    "\n",
    "            # print the data type to the terminal\n",
    "\n",
    "            # print the length of the row to the terminal\n",
    "            \n",
    "        # otherwise continue on\n",
    "            \n",
    "# close the output file"
   ]
  }
 ],
 "metadata": {
  "anaconda-cloud": {},
  "kernelspec": {
   "display_name": "Python 3",
   "language": "python",
   "name": "python3"
  },
  "language_info": {
   "codemirror_mode": {
    "name": "ipython",
    "version": 3
   },
   "file_extension": ".py",
   "mimetype": "text/x-python",
   "name": "python",
   "nbconvert_exporter": "python",
   "pygments_lexer": "ipython3",
   "version": "3.6.5"
  }
 },
 "nbformat": 4,
 "nbformat_minor": 1
}
