{
 "cells": [
  {
   "cell_type": "markdown",
   "metadata": {},
   "source": [
    "# Filter a CSV"
   ]
  },
  {
   "cell_type": "markdown",
   "metadata": {},
   "source": [
    "Import built-in python modules. We'll want to access csv files and download files. CSV, which stands for comma-separated values, a file format that resembles a spreadsheet or database table in a text file.\n",
    "\n",
    "```csv``` is a module that helps Python work with tabular data extracted from spreadsheets and databases\n",
    "\n",
    "```urllib``` is a module that allows Python to make http requests to URLs on the web to fetch HTML."
   ]
  },
  {
   "cell_type": "code",
   "execution_count": null,
   "metadata": {
    "collapsed": true
   },
   "outputs": [],
   "source": []
  },
  {
   "cell_type": "markdown",
   "metadata": {},
   "source": [
    "We're going to download a csv file. What should we name it?"
   ]
  },
  {
   "cell_type": "code",
   "execution_count": null,
   "metadata": {
    "collapsed": true
   },
   "outputs": [],
   "source": []
  },
  {
   "cell_type": "markdown",
   "metadata": {},
   "source": [
    "Use the urlretrieve function from the urllib.request library to download the csv file from the FDIC from a url and save it to a directory. The csv link can be found at https://s3.amazonaws.com/nicar17/pycar17/banklist.csv. If the internet is uncooperative, you can also use the local version of the file in the ```project1/data/``` directory."
   ]
  },
  {
   "cell_type": "code",
   "execution_count": null,
   "metadata": {
    "collapsed": true
   },
   "outputs": [],
   "source": []
  },
  {
   "cell_type": "markdown",
   "metadata": {},
   "source": [
    "Open the file to write"
   ]
  },
  {
   "cell_type": "code",
   "execution_count": null,
   "metadata": {
    "collapsed": true
   },
   "outputs": [],
   "source": []
  },
  {
   "cell_type": "markdown",
   "metadata": {},
   "source": [
    "Create the writer object"
   ]
  },
  {
   "cell_type": "code",
   "execution_count": null,
   "metadata": {
    "collapsed": true
   },
   "outputs": [],
   "source": []
  },
  {
   "cell_type": "code",
   "execution_count": null,
   "metadata": {
    "collapsed": false
   },
   "outputs": [],
   "source": [
    "# open the csv file\n",
    "\n",
    "    # use python's csv reader to access the contents\n",
    "    # and create an object that represents the data\n",
    "\n",
    "    # write our header row to the output csv\n",
    "\n",
    "    \n",
    "    \n",
    "    # loop through each row of the csv\n",
    "\n",
    "        # if the state field equals florida\n",
    "\n",
    "            # write the row to the new csv file\n",
    "\n",
    "            \n",
    "        # otherwise continue on\n",
    "\n",
    "        \n",
    "    # close the output file\n"
   ]
  }
 ],
 "metadata": {
  "anaconda-cloud": {},
  "kernelspec": {
   "display_name": "Python 3",
   "language": "python",
   "name": "python3"
  },
  "language_info": {
   "codemirror_mode": {
    "name": "ipython",
    "version": 3
   },
   "file_extension": ".py",
   "mimetype": "text/x-python",
   "name": "python",
   "nbconvert_exporter": "python",
   "pygments_lexer": "ipython3",
   "version": "3.6.0"
  }
 },
 "nbformat": 4,
 "nbformat_minor": 1
}
